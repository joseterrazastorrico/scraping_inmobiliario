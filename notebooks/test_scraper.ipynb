{
 "cells": [
  {
   "cell_type": "code",
   "execution_count": 1,
   "metadata": {},
   "outputs": [],
   "source": [
    "import pandas as pd\n",
    "import numpy as np\n",
    "import sys\n",
    "import os\n",
    "sys.path.append('../')\n",
    "from src.utils.scraperinmobiliarios import ScraperInmbobiliario"
   ]
  },
  {
   "cell_type": "code",
   "execution_count": 2,
   "metadata": {},
   "outputs": [],
   "source": [
    "def preprocess_data(data):\n",
    "    data['unidad'] = np.where(data['price'].str[:2].isin(['UF', 'US']), data['price'].str[:2], '$')\n",
    "    data['price_clean'] = data.apply(lambda x: x.price.replace(x.unidad, '').replace('.', '').replace('$', ''), axis=1)\n",
    "    data['price_clean'] = data['price_clean'].astype('int')\n",
    "    data['proyecto'] = data['m2'].str.contains('[0-9]+ a [0-9]+', regex=True) | data['dormitorios'].str.contains('[0-9]+ a [0-9]+', regex=True) | data['banos'].str.contains('[0-9]+ a [0-9]+', regex=True)\n",
    "    data['dormitorios_clean'] = pd.to_numeric(np.where(data['proyecto'] == True, np.nan, data['dormitorios'].str.replace(' dormitorios*', '', regex=True)))\n",
    "    data['banos_clean'] = pd.to_numeric(np.where(data['proyecto'] == True, np.nan, data['banos'].str.replace(' baños*', '', regex=True)))\n",
    "    data['m2_clean'] = pd.to_numeric(np.where(data['proyecto'] == True, np.nan, data['m2'].str.replace(' m² útiles', '').str.extract('(\\d+)')[0]))\n",
    "    return data"
   ]
  },
  {
   "cell_type": "code",
   "execution_count": 3,
   "metadata": {},
   "outputs": [
    {
     "name": "stdout",
     "output_type": "stream",
     "text": [
      "page 1\n",
      "page 2\n",
      "page 3\n",
      "page 4\n",
      "page 5\n",
      "page 6\n",
      "page 7\n",
      "page 8\n",
      "page 9\n",
      "page 10\n",
      "page 11\n",
      "page 12\n",
      "page 13\n",
      "page 14\n",
      "page 15\n",
      "page 16\n",
      "page 17\n",
      "page 18\n",
      "page 19\n",
      "page 20\n",
      "page 21\n",
      "page 22\n",
      "page 23\n",
      "page 24\n",
      "page 25\n",
      "page 26\n",
      "page 27\n",
      "page 28\n",
      "page 29\n",
      "page 30\n",
      "page 31\n",
      "page 32\n",
      "page 33\n",
      "page 34\n",
      "page 35\n",
      "page 36\n",
      "page 37\n",
      "page 38\n",
      "page 39\n",
      "page 40\n",
      "page 41\n",
      "page 42\n"
     ]
    }
   ],
   "source": [
    "status = 'venta'\n",
    "inmueble = 'departamento'\n",
    "comunas = [\n",
    "        # 'la-cisterna',\n",
    "        # 'las-condes' , 'providencia', 'ñuñoa', 'la-reina', 'macul', 'san-miguel', 'vitacura', 'lo-barnechea',\n",
    "        # 'independencia', 'estacion-central', 'san-joaquin', 'la-florida', 'puente-alto',\n",
    "        # 'santiago', 'cerrillos', 'maipu', 'recoleta', 'huechuraba', 'quilicura', 'colina', 'peñalolen'\n",
    "        ]\n",
    "region = 'metropolitana'\n",
    "comunas_failed = []\n",
    "for comuna in comunas:\n",
    "\n",
    "    scraper = ScraperInmbobiliario(status=status, inmueble=inmueble, comuna=comuna, region=region)\n",
    "\n",
    "    page_id = 1\n",
    "    results = []\n",
    "    while True:\n",
    "        print(f'page {page_id}')\n",
    "        result_page = scraper.scrape_page(page_id)\n",
    "        results += result_page\n",
    "        if len(result_page) == 0:\n",
    "            break\n",
    "        page_id += 1\n",
    "\n",
    "    data = pd.DataFrame(results)\n",
    "    try:\n",
    "        data = preprocess_data(data)\n",
    "    except:\n",
    "        comunas_failed.append(comuna)\n",
    "    data.to_excel(f'../data/Propiedades_{status}_{inmueble}_{comuna}.xlsx')"
   ]
  },
  {
   "cell_type": "code",
   "execution_count": 153,
   "metadata": {},
   "outputs": [
    {
     "data": {
      "text/plain": [
       "['la-cisterna']"
      ]
     },
     "execution_count": 153,
     "metadata": {},
     "output_type": "execute_result"
    }
   ],
   "source": [
    "comunas_failed"
   ]
  },
  {
   "cell_type": "code",
   "execution_count": null,
   "metadata": {},
   "outputs": [],
   "source": []
  }
 ],
 "metadata": {
  "kernelspec": {
   "display_name": "env_scraper",
   "language": "python",
   "name": "python3"
  },
  "language_info": {
   "codemirror_mode": {
    "name": "ipython",
    "version": 3
   },
   "file_extension": ".py",
   "mimetype": "text/x-python",
   "name": "python",
   "nbconvert_exporter": "python",
   "pygments_lexer": "ipython3",
   "version": "3.10.12"
  }
 },
 "nbformat": 4,
 "nbformat_minor": 2
}
