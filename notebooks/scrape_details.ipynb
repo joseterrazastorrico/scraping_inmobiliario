{
 "cells": [
  {
   "cell_type": "code",
   "execution_count": 53,
   "metadata": {},
   "outputs": [
    {
     "name": "stdout",
     "output_type": "stream",
     "text": [
      "Título: Encantador Depto En Independencia De 2 Dormitorios Y 2 Baños\n",
      "Ubicación: None\n",
      "Descripción: ¡Bienvenido a tu próximo hogar! Este encantador departamento de 2 dormitorios y 2 baños te ofrece comodidad, practicidad y estilo en cada rincón.Al ingresar, te sorprenderá la sensación de amplitud y luminosidad que caracteriza a este espacio.  La distribución inteligente aprovecha al máximo cada metro cuadrado, brindándote espacios de buen tamaño para vivir y disfrutar. Ventanas de termopanel, que permiten mantener a la temperatura ideal en el departamento y 2 terrazas para disfrutar de una hermosa vista.La cocina integrada está diseñada con elegancia y funcionalidad; con campana extractora conectada a la ventilación del edificio, y con cocina y horno eléctrico en perfectas condiciones.  Cuenta con espacio para la lavadora integrada en el segundo baño, ofreciéndote la comodidad de realizar tus tareas domésticas.Pero eso no es todo, el edificio cuenta con una variedad de amenidades pensadas para tu confort y entretenimiento. Desde un bicicletero para los amantes del ciclismo, hasta una lavandería equipada con 3 lavadoras para tu conveniencia. Para esos momentos de esparcimiento, podrás disfrutar de dos quinchos con vistas panorámicas, una sala de juegos para compartir con amigos y familiares, y una sala de ejercicios equipada con bicicletas estáticas, donde podrás mantener un estilo de vida activo sin salir de casa. Además es Pet Friendly , por lo que tú y tu mascota disfrutarán de la misma forma. Escaleras de evacuación amplias e iluminadas.El departamento cuenta con un estacionamiento techado para proteger tu vehículo y una amplia bodega para almacenar tus pertenencias de forma segura y ordenada, ambos en primer piso.Además, la ubicación es inmejorable. Situado en una tranquila calle cercana al metro, transporte público, comisaría, comercio  y hospitales, tendrás todo lo que necesitas al alcance de tu mano, garantizando tu tranquilidad y conveniencia en todo momento.Con una ubicación privilegiada y todas estas comodidades a tu alcance, este departamento es la elección perfecta para aquellos que buscan calidad de vida y bienestar en un ambiente acogedor. ¡No dejes pasar esta oportunidad y agenda tu visita hoy mismo!\n"
     ]
    }
   ],
   "source": [
    "import requests\n",
    "from bs4 import BeautifulSoup\n",
    "import re\n",
    "\n",
    "url = \"https://www.portalinmobiliario.com/MLC-1489933165-encantador-depto-en-independencia-de-2-dormitorios-y-2-banos-_JM\"\n",
    "\n",
    "response = requests.get(url)\n",
    "soup = BeautifulSoup(response.content, 'html.parser')\n",
    "\n",
    "titulo = soup.find('h1', class_='ui-pdp-title').text.strip()\n",
    "ubicacion = soup.find('p', class_='ui-pdp-color--BLACK ui-pdp-size--SMALL ui-pdp-family--REGULAR')#.text.strip()\n",
    "descripcion = soup.find('p', class_='ui-pdp-description__content').text.strip()\n",
    "\n",
    "# Imprimir la información extraída\n",
    "print(f\"Título: {titulo}\")\n",
    "print(f\"Ubicación: {ubicacion}\")\n",
    "print(f\"Descripción: {descripcion}\")"
   ]
  },
  {
   "cell_type": "code",
   "execution_count": 96,
   "metadata": {},
   "outputs": [
    {
     "data": {
      "text/plain": [
       "[<p class=\"nav-header-menu-mobile-guest-text\">Ingresa a tu cuenta para ver tus cotizaciones, favoritos, etc.</p>,\n",
       " <p class=\"ui-pdp-color--GRAY ui-pdp-size--XSMALL ui-pdp-family--REGULAR ui-pdp-header__bottom-subtitle\">Publicado hace 32 días</p>,\n",
       " <p class=\"ui-pdp-color--GRAY ui-pdp-size--XSMALL ui-pdp-family--REGULAR ui-pdp-seller-validated__title\">Corredora con <a data-testid=\"action\" href=\"#seller_profile\" target=\"_self\">identidad verificada</a><svg class=\"ui-pdp-icon ui-pdp-seller-validated__icon\" height=\"14\" viewbox=\"0 0 14 14\" width=\"14\" xmlns=\"http://www.w3.org/2000/svg\"><use href=\"#verified_small\"></use></svg></p>,\n",
       " <p class=\"ui-pdp-color--GRAY ui-pdp-size--XSMALL ui-pdp-family--REGULAR\"><span data-testid=\"price-part\"><span aria-label=\"82635195 pesos\" aria-roledescription=\"Precio\" class=\"andes-money-amount ui-pdp-price__part andes-money-amount--cents-comma andes-money-amount--compact\" role=\"img\" style=\"font-size:14px\"><span aria-hidden=\"true\" class=\"andes-money-amount__currency-symbol\">$</span><span aria-hidden=\"true\" class=\"andes-money-amount__fraction\">82.635.195</span></span></span></p>,\n",
       " <p class=\"ui-pdp-color--GRAY ui-pdp-size--XSMALL ui-pdp-family--REGULAR ui-pdp-maintenance-fee-ltr\">Gastos comunes aproximados $ 120.000</p>,\n",
       " <p class=\"ui-pdp-color--GRAY ui-pdp-size--XSMALL ui-pdp-family--REGULAR\">¿Tuviste un problema con la publicación? </p>,\n",
       " <p class=\"ui-pdp-seller__text-description\">Brinda buena atención</p>,\n",
       " <p class=\"ui-pdp-seller__text-description\">Responde en menos de 48 hs</p>,\n",
       " <p class=\"ui-pdp-color--BLACK ui-pdp-size--XSMALL ui-pdp-family--REGULAR\">Completa los datos para el financiamiento.</p>,\n",
       " <p class=\"ui-pdp-color--BLACK ui-pdp-size--XSMALL ui-pdp-family--REGULAR\">Sincroniza tus cuentas.</p>,\n",
       " <p class=\"ui-pdp-color--BLACK ui-pdp-size--XSMALL ui-pdp-family--REGULAR\">Recibe ofertas de crédito online.</p>,\n",
       " <p class=\"ui-pdp-color--GRAY ui-pdp-size--XXSMALL ui-pdp-family--REGULAR\">Conoce nuestra <a data-testid=\"blue_text\" href=\"https://www.mercadolibre.cl/ayuda/25903\" target=\"_blank\">Política de datos personales</a> al hacer una simulación.</p>,\n",
       " <p class=\"ui-pdp-color--BLACK ui-pdp-size--SMALL ui-pdp-family--REGULAR ui-pdp-media__title\">Desde Portalinmobiliario.com, nunca te pediremos contraseñas, PIN o códigos de verificación a través de WhatsApp, teléfono, SMS o email.</p>,\n",
       " <p class=\"ui-pdp-color--BLACK ui-pdp-size--SMALL ui-pdp-family--REGULAR ui-pdp-media__title\">Verifica que el inmueble exista y desconfía si te dicen que necesitan vender o arrendar con urgencia.</p>,\n",
       " <p class=\"ui-pdp-color--BLACK ui-pdp-size--SMALL ui-pdp-family--REGULAR ui-pdp-media__title\">Revisa el remitente de los e-mails para asegurarte que los envía Portalinmobiliario.com.</p>,\n",
       " <p class=\"ui-pdp-color--BLACK ui-pdp-size--SMALL ui-pdp-family--REGULAR ui-pdp-media__title\">Solicita la mayor cantidad posible de información sobre el inmueble, así como fotos y/o videos para comprobar su veracidad.</p>,\n",
       " <p class=\"ui-pdp-color--BLACK ui-pdp-size--SMALL ui-pdp-family--REGULAR ui-pdp-media__title\">Sospecha si el precio te parece demasiado barato como para ser cierto.</p>,\n",
       " <p class=\"ui-pdp-color--BLACK ui-pdp-size--SMALL ui-pdp-family--REGULAR ui-pdp-media__title\">No uses servicios de pago anónimos para pagar, reservar o adelantar dinero sin haber visto el inmueble.</p>,\n",
       " <p class=\"ui-pdp-description__content\">¡Bienvenido a tu próximo hogar! Este encantador departamento de 2 dormitorios y 2 baños te ofrece comodidad, practicidad y estilo en cada rincón.<br/><br/>Al ingresar, te sorprenderá la sensación de amplitud y luminosidad que caracteriza a este espacio.  La distribución inteligente aprovecha al máximo cada metro cuadrado, brindándote espacios de buen tamaño para vivir y disfrutar. Ventanas de termopanel, que permiten mantener a la temperatura ideal en el departamento y 2 terrazas para disfrutar de una hermosa vista.<br/><br/>La cocina integrada está diseñada con elegancia y funcionalidad; con campana extractora conectada a la ventilación del edificio, y con cocina y horno eléctrico en perfectas condiciones.  Cuenta con espacio para la lavadora integrada en el segundo baño, ofreciéndote la comodidad de realizar tus tareas domésticas.<br/><br/>Pero eso no es todo, el edificio cuenta con una variedad de amenidades pensadas para tu confort y entretenimiento. Desde un bicicletero para los amantes del ciclismo, hasta una lavandería equipada con 3 lavadoras para tu conveniencia. Para esos momentos de esparcimiento, podrás disfrutar de dos quinchos con vistas panorámicas, una sala de juegos para compartir con amigos y familiares, y una sala de ejercicios equipada con bicicletas estáticas, donde podrás mantener un estilo de vida activo sin salir de casa. Además es Pet Friendly , por lo que tú y tu mascota disfrutarán de la misma forma. Escaleras de evacuación amplias e iluminadas.<br/><br/>El departamento cuenta con un estacionamiento techado para proteger tu vehículo y una amplia bodega para almacenar tus pertenencias de forma segura y ordenada, ambos en primer piso.<br/><br/>Además, la ubicación es inmejorable. Situado en una tranquila calle cercana al metro, transporte público, comisaría, comercio  y hospitales, tendrás todo lo que necesitas al alcance de tu mano, garantizando tu tranquilidad y conveniencia en todo momento.<br/><br/><br/>Con una ubicación privilegiada y todas estas comodidades a tu alcance, este departamento es la elección perfecta para aquellos que buscan calidad de vida y bienestar en un ambiente acogedor. ¡No dejes pasar esta oportunidad y agenda tu visita hoy mismo!<br/></p>,\n",
       " <p class=\"ui-pdp-color--BLACK ui-pdp-family--REGULAR ui-vpp-denounce__info\">Publicación <span class=\"ui-pdp-color--BLACK ui-pdp-family--SEMIBOLD\">#1489933165</span></p>,\n",
       " <p class=\"nav-new-cookie-disclaimer__text\">Al navegar en este sitio aceptas las cookies que utilizamos para mejorar tu experiencia. <a href=\"https://www.mercadolibre.cl/privacidad#tech-and-cookies\" rel=\"noopener noreferrer\" target=\"_blank\">Más información.</a></p>]"
      ]
     },
     "execution_count": 96,
     "metadata": {},
     "output_type": "execute_result"
    }
   ],
   "source": [
    "soup.select('p', class_='#highlighted_specs_attrs > div.ui-pdp-container__row.ui-pdp-container__row--attributes > div > div:nth-child(1) > div:nth-child(1) > div > div.ui-vpp-highlighted-specs__key-value__labels > p > span.ui-pdp-color--BLACK.ui-pdp-size--XSMALL.ui-pdp-family--SEMIBOLD')"
   ]
  },
  {
   "cell_type": "code",
   "execution_count": 68,
   "metadata": {},
   "outputs": [
    {
     "data": {
      "text/plain": [
       "'Pero eso no es todo, el edificio cuenta con una variedad de amenidades pensadas para tu confort y entretenimiento. Desde un bicicletero para los amantes del ciclismo, hasta una lavandería equipada con 3 lavadoras para tu conveniencia. Para esos momentos de esparcimiento, podrás disfrutar de dos quinchos con vistas panorámicas, una sala de juegos para compartir con amigos y familiares, y una sala de ejercicios equipada con bicicletas estáticas, donde podrás mantener un estilo de vida activo sin salir de casa. Además es Pet Friendly , por lo que tú y tu mascota disfrutarán de la misma forma. Escaleras de evacuación amplias e iluminadas.'"
      ]
     },
     "execution_count": 68,
     "metadata": {},
     "output_type": "execute_result"
    }
   ],
   "source": []
  },
  {
   "cell_type": "code",
   "execution_count": 32,
   "metadata": {},
   "outputs": [],
   "source": []
  },
  {
   "cell_type": "code",
   "execution_count": 50,
   "metadata": {},
   "outputs": [
    {
     "data": {
      "text/plain": [
       "[]"
      ]
     },
     "execution_count": 50,
     "metadata": {},
     "output_type": "execute_result"
    }
   ],
   "source": [
    "from lxml import etree\n",
    "\n",
    "tree = etree.HTML(response.content)\n",
    "results = tree.xpath('//*[@id=\"highlighted_specs_attrs\"]/div[2]/div/div[1]/div[1]/div/div[2]/p/span[2]')\n",
    "results"
   ]
  },
  {
   "cell_type": "code",
   "execution_count": null,
   "metadata": {},
   "outputs": [],
   "source": []
  },
  {
   "cell_type": "code",
   "execution_count": null,
   "metadata": {},
   "outputs": [],
   "source": [
    "\n",
    "\n",
    "\n",
    "# Extract description\n",
    "description = soup.select_one('.ui-pdp-description__content').text.strip()\n",
    "\n",
    "# Extract images\n",
    "images = [img['src'] for img in soup.select('.ui-pdp-gallery__figure img')]\n",
    "\n",
    "# Example of extracting coordinates (adjust as necessary)\n",
    "script_tags = soup.find_all('script')\n",
    "coords = None\n",
    "for script in script_tags:\n",
    "    if 'google.maps.LatLng' in script.text:\n",
    "        import re\n",
    "        match = re.search(r'LatLng\\(([-\\d.]+), ([-\\d.]+)\\)', script.text)\n",
    "        if match:\n",
    "            coords = {\"lat\": float(match.group(1)), \"lng\": float(match.group(2))}\n",
    "            break\n",
    "\n",
    "# Output the results\n",
    "result = {\n",
    "    \"features\": features_data,\n",
    "    \"description\": description,\n",
    "    \"images\": images,\n",
    "    \"coordinates\": coords\n",
    "}\n",
    "\n",
    "# Save the result to a JSON file\n",
    "with open('property_details.json', 'w') as f:\n",
    "    json.dump(result, f, ensure_ascii=False, indent=4)\n",
    "\n",
    "print(json.dumps(result, ensure_ascii=False, indent=4))\n"
   ]
  }
 ],
 "metadata": {
  "kernelspec": {
   "display_name": "env_scraper",
   "language": "python",
   "name": "python3"
  },
  "language_info": {
   "codemirror_mode": {
    "name": "ipython",
    "version": 3
   },
   "file_extension": ".py",
   "mimetype": "text/x-python",
   "name": "python",
   "nbconvert_exporter": "python",
   "pygments_lexer": "ipython3",
   "version": "3.10.12"
  }
 },
 "nbformat": 4,
 "nbformat_minor": 2
}
