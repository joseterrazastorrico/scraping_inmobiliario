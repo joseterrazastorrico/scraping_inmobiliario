{
 "cells": [
  {
   "cell_type": "code",
   "execution_count": 64,
   "metadata": {},
   "outputs": [],
   "source": [
    "import requests\n",
    "from bs4 import BeautifulSoup\n",
    "from lxml import etree\n",
    "import re\n",
    "\n",
    "url = \"https://www.portalinmobiliario.com/MLC-1489933165-encantador-depto-en-independencia-de-2-dormitorios-y-2-banos-_JM\"\n",
    "\n",
    "headers = {'User-Agent': 'Mozilla/5.0 (Linux; Android 5.1.1; SM-G928X Build/LMY47X) AppleWebKit/537.36 (KHTML, like Gecko) Chrome/47.0.2526.83 Mobile Safari/537.36'}\n",
    "\n",
    "response = requests.get(url, headers=None)\n",
    "soup = BeautifulSoup(response.content, 'html.parser')\n",
    "# tree = etree.HTML(response.text)"
   ]
  },
  {
   "cell_type": "code",
   "execution_count": 65,
   "metadata": {},
   "outputs": [],
   "source": [
    "## XPATH\n",
    "# description = tree.xpath('//*[@id=\"description\"]/div/div/div/p')[0].text\n",
    "# location = tree.xpath('//*[@id=\"location\"]/div/div[1]/div/p')[0].text\n",
    "# title = tree.xpath('//*[@id=\"header\"]/div/div[2]/h1')[0].text"
   ]
  },
  {
   "cell_type": "code",
   "execution_count": 66,
   "metadata": {},
   "outputs": [],
   "source": [
    "## CSS SELECTOR\n",
    "titulo = soup.find('h1', class_='ui-pdp-title').text.strip()\n",
    "descripcion = soup.find('p', class_='ui-pdp-description__content').text.strip()"
   ]
  },
  {
   "cell_type": "code",
   "execution_count": 73,
   "metadata": {},
   "outputs": [
    {
     "data": {
      "text/plain": [
       "'¡Bienvenido a tu próximo hogar! Este encantador departamento de 2 dormitorios y 2 baños te ofrece comodidad, practicidad y estilo en cada rincón.Al ingresar, te sorprenderá la sensación de amplitud y luminosidad que caracteriza a este espacio.  La distribución inteligente aprovecha al máximo cada metro cuadrado, brindándote espacios de buen tamaño para vivir y disfrutar. Ventanas de termopanel, que permiten mantener a la temperatura ideal en el departamento y 2 terrazas para disfrutar de una hermosa vista.La cocina integrada está diseñada con elegancia y funcionalidad; con campana extractora conectada a la ventilación del edificio, y con cocina y horno eléctrico en perfectas condiciones.  Cuenta con espacio para la lavadora integrada en el segundo baño, ofreciéndote la comodidad de realizar tus tareas domésticas.Pero eso no es todo, el edificio cuenta con una variedad de amenidades pensadas para tu confort y entretenimiento. Desde un bicicletero para los amantes del ciclismo, hasta una lavandería equipada con 3 lavadoras para tu conveniencia. Para esos momentos de esparcimiento, podrás disfrutar de dos quinchos con vistas panorámicas, una sala de juegos para compartir con amigos y familiares, y una sala de ejercicios equipada con bicicletas estáticas, donde podrás mantener un estilo de vida activo sin salir de casa. Además es Pet Friendly , por lo que tú y tu mascota disfrutarán de la misma forma. Escaleras de evacuación amplias e iluminadas.El departamento cuenta con un estacionamiento techado para proteger tu vehículo y una amplia bodega para almacenar tus pertenencias de forma segura y ordenada, ambos en primer piso.Además, la ubicación es inmejorable. Situado en una tranquila calle cercana al metro, transporte público, comisaría, comercio  y hospitales, tendrás todo lo que necesitas al alcance de tu mano, garantizando tu tranquilidad y conveniencia en todo momento.Con una ubicación privilegiada y todas estas comodidades a tu alcance, este departamento es la elección perfecta para aquellos que buscan calidad de vida y bienestar en un ambiente acogedor. ¡No dejes pasar esta oportunidad y agenda tu visita hoy mismo!'"
      ]
     },
     "execution_count": 73,
     "metadata": {},
     "output_type": "execute_result"
    }
   ],
   "source": [
    "description = soup.select_one('.ui-pdp-description__content').text.strip()\n",
    "description"
   ]
  }
 ],
 "metadata": {
  "kernelspec": {
   "display_name": "env_scraper",
   "language": "python",
   "name": "python3"
  },
  "language_info": {
   "codemirror_mode": {
    "name": "ipython",
    "version": 3
   },
   "file_extension": ".py",
   "mimetype": "text/x-python",
   "name": "python",
   "nbconvert_exporter": "python",
   "pygments_lexer": "ipython3",
   "version": "3.10.12"
  }
 },
 "nbformat": 4,
 "nbformat_minor": 2
}
