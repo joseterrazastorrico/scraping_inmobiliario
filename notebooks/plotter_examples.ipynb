{
 "cells": [
  {
   "cell_type": "code",
   "execution_count": 25,
   "metadata": {},
   "outputs": [],
   "source": [
    "import geopandas as gpd\n",
    "import pandas as pd\n",
    "import folium\n",
    "from IPython.display import display\n",
    "import unicodedata"
   ]
  },
  {
   "cell_type": "code",
   "execution_count": 3,
   "metadata": {},
   "outputs": [],
   "source": [
    "df = pd.read_csv('../data/consolidated_properties/data_consolidada_RM.csv', index_col=0)\n",
    "df = df.loc[df.proyecto==False]\n",
    "filtrado = df[(df['comuna'] == 'la-reina') & (df['dormitorios_clean'] == 1.0)]"
   ]
  },
  {
   "cell_type": "code",
   "execution_count": 4,
   "metadata": {},
   "outputs": [],
   "source": [
    "#!wget https://www.bcn.cl/siit/obtienearchivo?id=repositorio/10221/10396/1/division_comunal.zip\n",
    "\n",
    "# df = gpd.read_file('../data/maps/division_comunal/division_comunal.shp')\n",
    "# df_rm = df[(df.NOM_REG=='Región Metropolitana de Santiago')&(df.NOM_PROV=='Santiago')]\n",
    "# df_rm.to_file(\"../data/maps/division_comunal.geojson\", driver=\"GeoJSON\")"
   ]
  },
  {
   "cell_type": "code",
   "execution_count": 33,
   "metadata": {},
   "outputs": [
    {
     "data": {
      "text/html": [
       "<div>\n",
       "<style scoped>\n",
       "    .dataframe tbody tr th:only-of-type {\n",
       "        vertical-align: middle;\n",
       "    }\n",
       "\n",
       "    .dataframe tbody tr th {\n",
       "        vertical-align: top;\n",
       "    }\n",
       "\n",
       "    .dataframe thead th {\n",
       "        text-align: right;\n",
       "    }\n",
       "</style>\n",
       "<table border=\"1\" class=\"dataframe\">\n",
       "  <thead>\n",
       "    <tr style=\"text-align: right;\">\n",
       "      <th></th>\n",
       "      <th>NOM_REG</th>\n",
       "      <th>NOM_PROV</th>\n",
       "      <th>NOM_COM</th>\n",
       "      <th>SHAPE_LENG</th>\n",
       "      <th>DIS_ELEC</th>\n",
       "      <th>CIR_SENA</th>\n",
       "      <th>COD_COMUNA</th>\n",
       "      <th>SHAPE_Le_1</th>\n",
       "      <th>SHAPE_Area</th>\n",
       "      <th>geometry</th>\n",
       "    </tr>\n",
       "  </thead>\n",
       "  <tbody>\n",
       "    <tr>\n",
       "      <th>0</th>\n",
       "      <td>Región Metropolitana de Santiago</td>\n",
       "      <td>Santiago</td>\n",
       "      <td>Independencia</td>\n",
       "      <td>11488.695747</td>\n",
       "      <td>19</td>\n",
       "      <td>7</td>\n",
       "      <td>1310</td>\n",
       "      <td>11718.687086</td>\n",
       "      <td>7.514746e+06</td>\n",
       "      <td>POLYGON ((345884.003 6302609.684, 345884.8 630...</td>\n",
       "    </tr>\n",
       "    <tr>\n",
       "      <th>1</th>\n",
       "      <td>Región Metropolitana de Santiago</td>\n",
       "      <td>Santiago</td>\n",
       "      <td>La Florida</td>\n",
       "      <td>49696.426793</td>\n",
       "      <td>26</td>\n",
       "      <td>8</td>\n",
       "      <td>1311</td>\n",
       "      <td>49621.402175</td>\n",
       "      <td>7.103733e+07</td>\n",
       "      <td>POLYGON ((366277.23 6293233.79, 366389.722 629...</td>\n",
       "    </tr>\n",
       "  </tbody>\n",
       "</table>\n",
       "</div>"
      ],
      "text/plain": [
       "                            NOM_REG  NOM_PROV        NOM_COM    SHAPE_LENG  \\\n",
       "0  Región Metropolitana de Santiago  Santiago  Independencia  11488.695747   \n",
       "1  Región Metropolitana de Santiago  Santiago     La Florida  49696.426793   \n",
       "\n",
       "   DIS_ELEC  CIR_SENA  COD_COMUNA    SHAPE_Le_1    SHAPE_Area  \\\n",
       "0        19         7        1310  11718.687086  7.514746e+06   \n",
       "1        26         8        1311  49621.402175  7.103733e+07   \n",
       "\n",
       "                                            geometry  \n",
       "0  POLYGON ((345884.003 6302609.684, 345884.8 630...  \n",
       "1  POLYGON ((366277.23 6293233.79, 366389.722 629...  "
      ]
     },
     "execution_count": 33,
     "metadata": {},
     "output_type": "execute_result"
    }
   ],
   "source": [
    "comunas_geo = gpd.read_file(\"../data/maps/division_comunal.geojson\")\n",
    "comunas_geo['NOM_COM'] = comunas_geo['NOM_COM'].apply(lambda x: unicodedata.normalize('NFKD', x).encode('ASCII', 'ignore').decode('utf-8'))\n",
    "comunas_geo.head(2)"
   ]
  },
  {
   "cell_type": "code",
   "execution_count": 34,
   "metadata": {},
   "outputs": [
    {
     "data": {
      "text/html": [
       "<div>\n",
       "<style scoped>\n",
       "    .dataframe tbody tr th:only-of-type {\n",
       "        vertical-align: middle;\n",
       "    }\n",
       "\n",
       "    .dataframe tbody tr th {\n",
       "        vertical-align: top;\n",
       "    }\n",
       "\n",
       "    .dataframe thead th {\n",
       "        text-align: right;\n",
       "    }\n",
       "</style>\n",
       "<table border=\"1\" class=\"dataframe\">\n",
       "  <thead>\n",
       "    <tr style=\"text-align: right;\">\n",
       "      <th></th>\n",
       "      <th>comuna</th>\n",
       "      <th>price_clean_uf</th>\n",
       "    </tr>\n",
       "  </thead>\n",
       "  <tbody>\n",
       "    <tr>\n",
       "      <th>0</th>\n",
       "      <td>Cerrillos</td>\n",
       "      <td>20.766596</td>\n",
       "    </tr>\n",
       "    <tr>\n",
       "      <th>1</th>\n",
       "      <td>Colina</td>\n",
       "      <td>35.264000</td>\n",
       "    </tr>\n",
       "  </tbody>\n",
       "</table>\n",
       "</div>"
      ],
      "text/plain": [
       "      comuna  price_clean_uf\n",
       "0  Cerrillos       20.766596\n",
       "1     Colina       35.264000"
      ]
     },
     "execution_count": 34,
     "metadata": {},
     "output_type": "execute_result"
    }
   ],
   "source": [
    "df = pd.read_csv('../data/consolidated_properties/data_consolidada_RM.csv', index_col=0)\n",
    "df['comuna'] = df['comuna'].str.split('-').apply(lambda x: ' '.join([word.capitalize() for word in x]))\n",
    "df['comuna'] = df['comuna'].apply(lambda x: unicodedata.normalize('NFKD', x).encode('ASCII', 'ignore').decode('utf-8'))\n",
    "df_comuna = df.groupby(['comuna']).agg({'price_clean_uf': 'mean'}).reset_index()\n",
    "df_comuna.head(2)"
   ]
  },
  {
   "cell_type": "code",
   "execution_count": 35,
   "metadata": {},
   "outputs": [],
   "source": [
    "df_comuna_geo = comunas_geo.merge(df_comuna, how='inner', left_on='NOM_COM', right_on='comuna')"
   ]
  },
  {
   "cell_type": "code",
   "execution_count": 54,
   "metadata": {},
   "outputs": [
    {
     "data": {
      "text/plain": [
       "((32,), (32, 10))"
      ]
     },
     "execution_count": 54,
     "metadata": {},
     "output_type": "execute_result"
    }
   ],
   "source": [
    "comunas_geo.NOM_COM.unique().shape, comunas_geo.shape"
   ]
  },
  {
   "cell_type": "code",
   "execution_count": 37,
   "metadata": {},
   "outputs": [
    {
     "data": {
      "text/plain": [
       "<folium.features.Choropleth at 0x7d623fbf8310>"
      ]
     },
     "execution_count": 37,
     "metadata": {},
     "output_type": "execute_result"
    }
   ],
   "source": [
    "m = folium.Map(location=[-33.45, -70.65], zoom_start=10)\n",
    "\n",
    "folium.Choropleth(\n",
    "    geo_data=df_comuna_geo,\n",
    "    data=df_comuna_geo,\n",
    "    columns=['comuna', 'price_clean_uf'],\n",
    "    key_on='feature.properties.NOM_COM',\n",
    "    fill_color='YlOrRd',\n",
    "    fill_opacity=0.7,\n",
    "    line_opacity=0.2,\n",
    "    legend_name='Variable por comuna'\n",
    ").add_to(m)\n",
    "\n",
    "# m.save('mapa_santiago.html')\n",
    "# display(m)"
   ]
  },
  {
   "cell_type": "code",
   "execution_count": 43,
   "metadata": {},
   "outputs": [],
   "source": [
    "# df_comuna_geo.plot()\n",
    "# df_comuna_geo.explore()"
   ]
  },
  {
   "cell_type": "code",
   "execution_count": 9,
   "metadata": {},
   "outputs": [],
   "source": []
  },
  {
   "cell_type": "code",
   "execution_count": 10,
   "metadata": {},
   "outputs": [],
   "source": []
  }
 ],
 "metadata": {
  "kernelspec": {
   "display_name": "env_scraper",
   "language": "python",
   "name": "python3"
  },
  "language_info": {
   "codemirror_mode": {
    "name": "ipython",
    "version": 3
   },
   "file_extension": ".py",
   "mimetype": "text/x-python",
   "name": "python",
   "nbconvert_exporter": "python",
   "pygments_lexer": "ipython3",
   "version": "3.10.12"
  }
 },
 "nbformat": 4,
 "nbformat_minor": 2
}
